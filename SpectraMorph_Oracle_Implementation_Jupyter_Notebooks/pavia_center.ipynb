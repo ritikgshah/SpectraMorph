version https://git-lfs.github.com/spec/v1
oid sha256:0222564e0ac73570846015ccebac27db0e703d4d99679307e94218f1c89778f8
size 54533520
