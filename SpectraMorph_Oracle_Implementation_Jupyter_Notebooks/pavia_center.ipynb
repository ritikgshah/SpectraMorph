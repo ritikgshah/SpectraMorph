version https://git-lfs.github.com/spec/v1
oid sha256:cf54dd4250484acf40e086863ad88bcf734c26c3d5a9774dfcfcab312d638ad5
size 46491875
