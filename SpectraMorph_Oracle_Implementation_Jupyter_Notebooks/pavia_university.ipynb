version https://git-lfs.github.com/spec/v1
oid sha256:6067a47d8dd42413f6b880d3bab8b102c605ceb66f77ccf6ae101676cafb2400
size 58586474
