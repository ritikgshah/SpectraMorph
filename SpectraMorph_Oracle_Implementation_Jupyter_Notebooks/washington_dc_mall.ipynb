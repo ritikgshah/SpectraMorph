version https://git-lfs.github.com/spec/v1
oid sha256:60a06afafbe1bfe8c1483b528c8fe59450b335b4cf99b84de4380e2f5bf85440
size 81461204
