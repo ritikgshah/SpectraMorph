version https://git-lfs.github.com/spec/v1
oid sha256:fe272f66d03bd03117b770334ba65ab1ae0d62427360a5744cbbba6f1764f094
size 13725009
