version https://git-lfs.github.com/spec/v1
oid sha256:1ad127e78042eac3c2bbf5975af38b610919ae95382c96f295fe273962842cc4
size 6643607
