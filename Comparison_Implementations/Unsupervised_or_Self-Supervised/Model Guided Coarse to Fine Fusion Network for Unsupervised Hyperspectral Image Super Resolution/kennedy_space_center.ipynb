version https://git-lfs.github.com/spec/v1
oid sha256:e993ff6146b9d9426e196be85d30c3c1b7fb4eeb9cd54dd65dc4e021c43b9d42
size 8595918
