version https://git-lfs.github.com/spec/v1
oid sha256:bb9d0f846e3549727bb27aa56f001c2d3951e60e08ac66c38b1688e7e63baa19
size 14432198
