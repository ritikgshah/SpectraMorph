version https://git-lfs.github.com/spec/v1
oid sha256:da68566f1773c8b02507450f3180c0d7ff77aa45bc1f5bc094f6b9995aa38170
size 8606200
