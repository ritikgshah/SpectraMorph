version https://git-lfs.github.com/spec/v1
oid sha256:058ddef71d9af4587904cc00652bb7b7bcf29156ce8e55516f8331a11327ac13
size 6018360
