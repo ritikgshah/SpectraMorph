version https://git-lfs.github.com/spec/v1
oid sha256:d355f50419428ab4e0550a5f54925dd98a8c6d235308c0dc9049101e32b82aac
size 8606201
