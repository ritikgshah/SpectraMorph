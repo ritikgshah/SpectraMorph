version https://git-lfs.github.com/spec/v1
oid sha256:d7e3e523ca40496e6fc1636b388a905d3ffd3a4f58fbb4c1b75dfe7b314b6d8a
size 9059590
