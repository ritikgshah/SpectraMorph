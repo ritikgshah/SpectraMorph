version https://git-lfs.github.com/spec/v1
oid sha256:34a5481b45253f75e1b7b8cd001b6f5bcfd5cd84d0ab6cd384ad0f8f3b24df23
size 4138519
