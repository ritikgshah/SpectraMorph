version https://git-lfs.github.com/spec/v1
oid sha256:65b6dd3031ca347c12146bbcc7cd56a72f04ed5ff3dad5f4e1810b5c1d142a43
size 3001530
