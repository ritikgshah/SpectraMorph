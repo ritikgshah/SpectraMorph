version https://git-lfs.github.com/spec/v1
oid sha256:29aaee0f789dd7ff55d0875f431f53437b5576ec6bb7f21e71003b95d38497cd
size 83521519
