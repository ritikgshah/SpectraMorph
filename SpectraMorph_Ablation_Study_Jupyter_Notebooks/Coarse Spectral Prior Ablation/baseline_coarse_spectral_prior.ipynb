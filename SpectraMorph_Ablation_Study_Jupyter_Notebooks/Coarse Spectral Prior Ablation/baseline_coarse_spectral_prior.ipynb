version https://git-lfs.github.com/spec/v1
oid sha256:e2e2b0f2914a04d17df577d5e207f3faf8a122183436586a3fbddc0754b713dc
size 83590005
