version https://git-lfs.github.com/spec/v1
oid sha256:a97b0161bd42b71459c1f603704f283f80ac554b12d4a515b2a52c83db9f272f
size 19112473
