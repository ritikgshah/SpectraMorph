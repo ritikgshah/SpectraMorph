version https://git-lfs.github.com/spec/v1
oid sha256:d18ccb7c3692e03d5ddeadf0aadc47887d8c0a077b73f9ed54262494413ddc3e
size 19817681
