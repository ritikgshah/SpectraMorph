version https://git-lfs.github.com/spec/v1
oid sha256:6870336252c8cbffdb8b21e74c51eb97c7a7dd9c9b5f51705cd07b613722a172
size 17641008
