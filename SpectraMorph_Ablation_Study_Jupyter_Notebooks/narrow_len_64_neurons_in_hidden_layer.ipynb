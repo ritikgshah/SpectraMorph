version https://git-lfs.github.com/spec/v1
oid sha256:aff2243e861d34a02651388d0ff329df4abb44b9e36ebb821e2ef9946b63f2d8
size 19886455
